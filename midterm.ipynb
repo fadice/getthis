{
 "cells": [
  {
   "cell_type": "code",
   "execution_count": 51,
   "id": "2e6fd785",
   "metadata": {},
   "outputs": [],
   "source": [
    "import numpy as np\n",
    "import seaborn as sns\n",
    "from matplotlib import pyplot as plt"
   ]
  },
  {
   "cell_type": "code",
   "execution_count": 8,
   "id": "50e06436",
   "metadata": {},
   "outputs": [],
   "source": [
    "#10\n",
    "list=[1, 2, 5, 4, 3, 5, 2, 1, 3, 3, 1, 4, 3, 3, 3, 2, 3, 3, 2, 5]\n"
   ]
  },
  {
   "cell_type": "code",
   "execution_count": 9,
   "id": "d9fc1747",
   "metadata": {},
   "outputs": [
    {
     "name": "stdout",
     "output_type": "stream",
     "text": [
      "2.9\n"
     ]
    }
   ],
   "source": [
    "#means.\n",
    "print(np.average(list))"
   ]
  },
  {
   "cell_type": "code",
   "execution_count": 10,
   "id": "19ae1fc0",
   "metadata": {},
   "outputs": [
    {
     "name": "stdout",
     "output_type": "stream",
     "text": [
      "1.49\n"
     ]
    }
   ],
   "source": [
    "#variance\n",
    "print(np.var(list))"
   ]
  },
  {
   "cell_type": "code",
   "execution_count": 11,
   "id": "98586e80",
   "metadata": {},
   "outputs": [
    {
     "name": "stdout",
     "output_type": "stream",
     "text": [
      "1.2206555615733703\n"
     ]
    }
   ],
   "source": [
    "# Calculating standard\n",
    "# deviation using var()\n",
    "print(np.std(list))\n"
   ]
  },
  {
   "cell_type": "code",
   "execution_count": 12,
   "id": "5ab9ae75",
   "metadata": {},
   "outputs": [
    {
     "name": "stdout",
     "output_type": "stream",
     "text": [
      "list :  [1, 2, 5, 4, 3, 5, 2, 1, 3, 3, 1, 4, 3, 3, 3, 2, 3, 3, 2, 5]\n",
      "median of list :  3.0\n"
     ]
    }
   ],
   "source": [
    "# numpy.median() method \n",
    "print(\"list : \", list) \n",
    "print(\"median of list : \", np.median(list))"
   ]
  },
  {
   "cell_type": "code",
   "execution_count": 14,
   "id": "f25165a6",
   "metadata": {},
   "outputs": [
    {
     "name": "stdout",
     "output_type": "stream",
     "text": [
      "Min of list :  1\n"
     ]
    }
   ],
   "source": [
    "# numpy.nanmin() method \n",
    "    \n",
    "import numpy as np\n",
    "print(\"Min of list : \", np.amin(list))\n"
   ]
  },
  {
   "cell_type": "code",
   "execution_count": 15,
   "id": "224bffa2",
   "metadata": {},
   "outputs": [
    {
     "name": "stdout",
     "output_type": "stream",
     "text": [
      "max of list :  5\n"
     ]
    }
   ],
   "source": [
    "# numpy.nanmax() method \n",
    "print(\"max of list : \", np.amax(list))"
   ]
  },
  {
   "cell_type": "code",
   "execution_count": 19,
   "id": "bf8abc4e",
   "metadata": {},
   "outputs": [
    {
     "name": "stdout",
     "output_type": "stream",
     "text": [
      "4\n"
     ]
    }
   ],
   "source": [
    "#range\n",
    "list=np.ptp(list, axis=0)\n",
    "print(list)"
   ]
  },
  {
   "cell_type": "code",
   "execution_count": 22,
   "id": "bee17831",
   "metadata": {},
   "outputs": [
    {
     "name": "stdout",
     "output_type": "stream",
     "text": [
      "4\n"
     ]
    }
   ],
   "source": [
    "#mode\n",
    "vals,counts = np.unique(list, return_counts=True)\n",
    "mode = np.argmax(counts)\n",
    "print(vals[mode])"
   ]
  },
  {
   "cell_type": "code",
   "execution_count": 36,
   "id": "9536a486",
   "metadata": {},
   "outputs": [
    {
     "data": {
      "image/png": "[encoded data removed]",
      "text/plain": [
       "<Figure size 700x350 with 1 Axes>"
      ]
     },
     "metadata": {},
     "output_type": "display_data"
    }
   ],
   "source": [
    "# 11 compute percentage of each format and place in bar graph\n",
    "list=[1, 2, 5, 4, 3, 5, 2, 1, 3, 3, 1, 4, 3, 3, 3, 2, 3, 3, 2, 5]\n",
    "values, frequencies = np.unique(list,   return_counts=True)\n",
    "\n",
    "title = f'Total Responses {len(list):,} '\n",
    "sns.set_style('whitegrid')\n",
    "axes = sns.barplot(x=values, y=frequencies,   palette='bright')\n"
   ]
  },
  {
   "cell_type": "code",
   "execution_count": 117,
   "id": "47483ad2",
   "metadata": {},
   "outputs": [
    {
     "name": "stdout",
     "output_type": "stream",
     "text": [
      "[0, 8, 1, 27]\n",
      "[1, 27, 27, 1]\n"
     ]
    }
   ],
   "source": [
    "#7\n",
    "import numpy as np\n",
    " \n",
    "a = np.array([1, 3, 3, 1])\n",
    "b = np.array([0, 2, 1, 3])\n",
    " \n",
    "#7a Cube List using list comprehension\n",
    "res = [pow(i, 3) for i in a]\n",
    " \n",
    "bes= [pow(i, 3) for i in b]\n",
    " \n",
    "# printing result\n",
    "print(bes)\n",
    "print(res)"
   ]
  },
  {
   "cell_type": "code",
   "execution_count": 118,
   "id": "2cb3e7c9",
   "metadata": {},
   "outputs": [
    {
     "name": "stdout",
     "output_type": "stream",
     "text": [
      "[1, 3, 3, 1, 7]\n",
      "[0, 2, 1, 3, 7]\n"
     ]
    }
   ],
   "source": [
    "#7b\n",
    "a = [1, 3, 3, 1]\n",
    "b = [0, 2, 1, 3]\n",
    "a1=[7]\n",
    "b1=[7]\n",
    "a.extend(a1)\n",
    "b.extend(b1)\n",
    "print(a)\n",
    "print(b)"
   ]
  },
  {
   "cell_type": "code",
   "execution_count": 119,
   "id": "0e609642",
   "metadata": {},
   "outputs": [
    {
     "name": "stdout",
     "output_type": "stream",
     "text": [
      "[ 2  6  6  2 14]\n",
      "[ 0  4  2  6 14]\n"
     ]
    }
   ],
   "source": [
    "#7c\n",
    "a2 = np.multiply(a, 2)\n",
    "b2 = np.multiply(b, 2)\n",
    "print(a2)\n",
    "print(b2)"
   ]
  },
  {
   "cell_type": "code",
   "execution_count": 85,
   "id": "9b72f490",
   "metadata": {},
   "outputs": [
    {
     "name": "stdout",
     "output_type": "stream",
     "text": [
      "[[ 1  2  3  4  5]\n",
      " [ 6  7  8  9 10]\n",
      " [11 12 13 14 15]]\n"
     ]
    }
   ],
   "source": [
    "#8\n",
    "import numpy as np\n",
    "star =np.array([1, 2, 3, 4, 5, 6, 7, 8, 9, 10, 11, 12, 13, 14, 15])\n",
    "#reshape it to 3x5\n",
    "alaron = star.reshape(3, 5 )\n",
    "print(alaron)"
   ]
  },
  {
   "cell_type": "code",
   "execution_count": 90,
   "id": "eb2d8753",
   "metadata": {},
   "outputs": [
    {
     "name": "stdout",
     "output_type": "stream",
     "text": [
      "[[11 12 13 14 15]]\n"
     ]
    }
   ],
   "source": [
    "#8a.Select row2.\n",
    "flaps = alaron[[2],:]\n",
    "print(flaps)"
   ]
  },
  {
   "cell_type": "code",
   "execution_count": 94,
   "id": "e550052f",
   "metadata": {},
   "outputs": [
    {
     "name": "stdout",
     "output_type": "stream",
     "text": [
      "[[ 5]\n",
      " [10]\n",
      " [15]]\n"
     ]
    }
   ],
   "source": [
    "#8b.Select column5.\n",
    "trim= alaron[:,[4]]\n",
    "print(trim)"
   ]
  },
  {
   "cell_type": "code",
   "execution_count": 91,
   "id": "dcba7979",
   "metadata": {},
   "outputs": [
    {
     "name": "stdout",
     "output_type": "stream",
     "text": [
      "[[ 1  2  3  4  5]\n",
      " [ 6  7  8  9 10]]\n"
     ]
    }
   ],
   "source": [
    "#8c.Select rows 0 and 1.\n",
    "slats = alaron[[0,1],:]\n",
    "print(slats)"
   ]
  },
  {
   "cell_type": "code",
   "execution_count": 96,
   "id": "b5b2ac8e",
   "metadata": {},
   "outputs": [
    {
     "name": "stdout",
     "output_type": "stream",
     "text": [
      "[[ 2  3  4]\n",
      " [ 7  8  9]\n",
      " [12 13 14]]\n"
     ]
    }
   ],
   "source": [
    "#8d.Select columns2–4.\n",
    "stab= alaron[:,[1,2,3]]\n",
    "print(stab)"
   ]
  },
  {
   "cell_type": "code",
   "execution_count": 97,
   "id": "296d2c69",
   "metadata": {},
   "outputs": [
    {
     "name": "stdout",
     "output_type": "stream",
     "text": [
      "[4]\n"
     ]
    }
   ],
   "source": [
    "#8e.Select the element that is in row 1 and column 4\n",
    "tail= alaron[0,[3]]\n",
    "print(tail)"
   ]
  },
  {
   "cell_type": "code",
   "execution_count": 99,
   "id": "4e672a7b",
   "metadata": {},
   "outputs": [
    {
     "name": "stdout",
     "output_type": "stream",
     "text": [
      "[[ 1  3  5]\n",
      " [ 6  8 10]]\n"
     ]
    }
   ],
   "source": [
    "#4.f.Select all elements from rows 1 and 2 that are in columns 0, 2 and 4.\n",
    "hook= alaron[[0,1], :][:,[0,2,4]]\n",
    "print(hook)"
   ]
  },
  {
   "cell_type": "code",
   "execution_count": 109,
   "id": "16507da5",
   "metadata": {},
   "outputs": [
    {
     "name": "stdout",
     "output_type": "stream",
     "text": [
      "Random integers between 0 and 10: \n"
     ]
    }
   ],
   "source": [
    "#9\n",
    "import random\n",
    "print(\"Random integers between 0 and 10: \")\n",
    "for i in range(1, 50):\n",
    "     pitot = random.randrange(10)"
   ]
  },
  {
   "cell_type": "code",
   "execution_count": 113,
   "id": "2e4c1f19",
   "metadata": {},
   "outputs": [
    {
     "name": "stdout",
     "output_type": "stream",
     "text": [
      "1 occurs 1 times\n",
      "2 occurs 1 times\n",
      "3 occurs 1 times\n",
      "4 occurs 1 times\n",
      "5 occurs 1 times\n",
      "6 occurs 1 times\n",
      "7 occurs 1 times\n",
      "8 occurs 1 times\n"
     ]
    }
   ],
   "source": [
    "# Count the frequency of unique values\n",
    "import numpy as np\n",
    "unique_values, counts = np.unique(arr, return_counts=True)\n",
    "\n",
    "# Print the results\n",
    "for value, count in zip(unique_values, counts):\n",
    "    print(f\"{value} occurs {count} times\")"
   ]
  },
  {
   "cell_type": "code",
   "execution_count": 116,
   "id": "4bf562a6",
   "metadata": {},
   "outputs": [
    {
     "name": "stdout",
     "output_type": "stream",
     "text": [
      "x = 2\n",
      "Value of 2 + 2 is 4\n",
      "x =\n",
      "5 x = 5\n"
     ]
    }
   ],
   "source": [
    "#4.\n",
    "x=2\n",
    "y=3\n",
    "print('x =', x)\n",
    "print('Value of', x, '+', x, 'is', (x + x))\n",
    "print('x =')\n",
    "print((x + y), 'x =', (y + x))"
   ]
  },
  {
   "cell_type": "code",
   "execution_count": null,
   "id": "381dcf24",
   "metadata": {},
   "outputs": [],
   "source": [
    "#5\n",
    "if grade >= 90:\n",
    "\n",
    "print(\"Congratulations! Your grade of\", grade, \"earns you an A in this course.\")"
   ]
  }
 ],
 "metadata": {
  "kernelspec": {
   "display_name": "Python 3 (ipykernel)",
   "language": "python",
   "name": "python3"
  },
  "language_info": {
   "codemirror_mode": {
    "name": "ipython",
    "version": 3
   },
   "file_extension": ".py",
   "mimetype": "text/x-python",
   "name": "python",
   "nbconvert_exporter": "python",
   "pygments_lexer": "ipython3",
   "version": "3.11.4"
  }
 },
 "nbformat": 4,
 "nbformat_minor": 5
}
